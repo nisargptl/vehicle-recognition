{
  "nbformat": 4,
  "nbformat_minor": 0,
  "metadata": {
    "kernelspec": {
      "display_name": "Python 3",
      "language": "python",
      "name": "python3"
    },
    "language_info": {
      "codemirror_mode": {
        "name": "ipython",
        "version": 3
      },
      "file_extension": ".py",
      "mimetype": "text/x-python",
      "name": "python",
      "nbconvert_exporter": "python",
      "pygments_lexer": "ipython3",
      "version": "3.7.2"
    },
    "colab": {
      "name": "Data_Preparation.ipynb",
      "provenance": []
    }
  },
  "cells": [
    {
      "cell_type": "markdown",
      "metadata": {
        "id": "RZWTihvZSKVZ"
      },
      "source": [
        "# ***Data preparation and augmentation***"
      ]
    },
    {
      "cell_type": "markdown",
      "metadata": {
        "id": "YWVwX15-VU3j"
      },
      "source": [
        "**Libraries**"
      ]
    },
    {
      "cell_type": "code",
      "metadata": {
        "id": "j391nvTKSGLc"
      },
      "source": [
        "#Libraries for file handling. \n",
        "import os\n",
        "import shutil\n",
        "import scipy.io\n",
        "from os import walk\n",
        "import pandas as pd\n",
        "\n",
        "#Libraries for image processing\n",
        "import cv2\n",
        "from keras.preprocessing.image import ImageDataGenerator, array_to_img, img_to_array, load_img"
      ],
      "execution_count": null,
      "outputs": []
    },
    {
      "cell_type": "code",
      "metadata": {
        "id": "vGdFUsg7SGLp"
      },
      "source": [
        "# To create Folders for different classes.\n",
        "mat = scipy.io.loadmat('E:\\Academic\\Btech sem 6\\Software Engineering\\Project\\stanford-cars-dataset\\cars_annos.mat')\n",
        "Names = mat['class_names'][0]\n",
        "\n",
        "os.chdir(r'E:\\Academic\\Btech sem 6\\Software Engineering\\Project\\Cars196_resized\\training')\n",
        "for i in range(len(Names)):\n",
        "    path = str(Names[i][0])\n",
        "    if not os.path.exists(path):\n",
        "        os.makedirs(path) \n",
        "\n",
        "os.chdir(r'E:\\Academic\\Btech sem 6\\Software Engineering\\Project\\Cars196_resized\\testing')\n",
        "for i in range(len(Names)):\n",
        "    path = str(Names[i][0])\n",
        "    if not os.path.exists(path):\n",
        "        os.makedirs(path) "
      ],
      "execution_count": null,
      "outputs": []
    },
    {
      "cell_type": "code",
      "metadata": {
        "id": "TYgoXTypSGLt"
      },
      "source": [
        "#Image Processing for training set.\n",
        "mat = scipy.io.loadmat('E:\\Academic\\Btech sem 6\\Software Engineering\\Project\\stanford-cars-dataset\\cars_train_annos.mat')\n",
        "Data=mat['annotations'][0]\n",
        "cnt=1\n",
        "for data in Data:\n",
        "    print(cnt)\n",
        "    cnt+=1\n",
        "    Class = Names[data[-2][0][0]-1][0]\n",
        "    x1=data[0][0][0]\n",
        "    y1=data[1][0][0]\n",
        "    x2=data[2][0][0]\n",
        "    y2=data[3][0][0]\n",
        "    Image_name = data[-1][0]\n",
        "    path = r'E:\\Academic\\Btech sem 6\\Software Engineering\\Project\\stanford-cars-dataset\\cars_train\\cars_train'+'\\\\'+Image_name\n",
        "    Dest = r'E:\\Academic\\Btech sem 6\\Software Engineering\\Project\\Cars196_resized\\training'+'\\\\'+Class+'\\\\'+Image_name\n",
        "    img = cv2.imread(path)\n",
        "    img=img[y1:y2+1,x1:x2+1]\n",
        "    img = cv2.resize(img, (227,227)) \n",
        "    cv2.imwrite(Dest, img) \n",
        "\n",
        "#Image Processing for testing set.\n",
        "Data = pd.read_csv(r'E:\\Academic\\Btech sem 6\\Software Engineering\\Project\\stanford-cars-dataset\\anno_test.csv',header=None)\n",
        "cnt=1\n",
        "for i in range(len(Data)):\n",
        "    print(cnt)\n",
        "    cnt+=1\n",
        "    Class = Names[Data[5][i]-1][0]\n",
        "    x1=Data[1][i]\n",
        "    y1=Data[2][i]\n",
        "    x2=Data[3][i]\n",
        "    y2=Data[4][i]\n",
        "    Image_name = Data[0][i]\n",
        "    path = r'E:\\Academic\\Btech sem 6\\Software Engineering\\Project\\stanford-cars-dataset\\cars_test\\cars_test'+'\\\\'+Image_name\n",
        "    Dest = r'E:\\Academic\\Btech sem 6\\Software Engineering\\Project\\Cars196_resized\\testing'+'\\\\'+Class+'\\\\'+Image_name\n",
        "    img = cv2.imread(path)\n",
        "    img=img[y1:y2+1,x1:x2+1]\n",
        "    img = cv2.resize(img, (227,227))\n",
        "    cv2.imwrite(Dest, img) "
      ],
      "execution_count": null,
      "outputs": []
    },
    {
      "cell_type": "code",
      "metadata": {
        "id": "tKQrMCTJSGL_"
      },
      "source": [
        "#To reshuflling training and testing set.\n",
        "test_path = [x[0] for x in os.walk(r\"E:\\Academic\\Btech sem 6\\Software Engineering\\Project\\sample\\testing\")]\n",
        "train_path = [x[0] for x in os.walk(r\"E:\\Academic\\Btech sem 6\\Software Engineering\\Project\\sample\\training\")]\n",
        "for i in range(1,len(test_path)):\n",
        "    files = os.listdir(test_path[i])\n",
        "    for j in range(0,max(len(files)-20,0)):\n",
        "        path = os.path.join(test_path[i],files[j])\n",
        "        files[j]='test'+files[j]\n",
        "        path1 = os.path.join(test_path[i],files[j])\n",
        "        os.rename(path,path1)\n",
        "        shutil.move(path1,train_path[i])"
      ],
      "execution_count": null,
      "outputs": []
    },
    {
      "cell_type": "markdown",
      "metadata": {
        "id": "EMjJliMrVbrb"
      },
      "source": [
        "**Image augmentation**"
      ]
    },
    {
      "cell_type": "code",
      "metadata": {
        "id": "hJIZsqWeSGMA"
      },
      "source": [
        "#Image augmentation for training dataset.\n",
        "train_path = [x[0] for x in os.walk(r'E:\\Academic\\Btech sem 6\\Software Engineering\\Project\\Cars196_resized\\Training_6')]\n",
        "for i in range(1,len(train_path)):\n",
        "    files = os.listdir(train_path[i])\n",
        "    for j in range(0,len(files)):\n",
        "        path = os.path.join(train_path[i],files[j])\n",
        "        datagen = ImageDataGenerator(shear_range = 0.1,\n",
        "                                     zoom_range = 0.2,\n",
        "                                     horizontal_flip = True,\n",
        "                                     fill_mode='nearest')\n",
        "        img = load_img(path)\n",
        "        x = img_to_array(img) \n",
        "        x = x.reshape((1,) + x.shape)\n",
        "        it = 0\n",
        "        for batch in datagen.flow(x, batch_size=1,save_to_dir=train_path[i], save_prefix=files[j], save_format='jpg'):\n",
        "            it += 1\n",
        "            if it > 1:\n",
        "                break "
      ],
      "execution_count": null,
      "outputs": []
    }
  ]
}
