{
  "nbformat": 4,
  "nbformat_minor": 0,
  "metadata": {
    "accelerator": "GPU",
    "colab": {
      "name": "Mobilenet.ipynb",
      "provenance": []
    },
    "kernelspec": {
      "display_name": "Python 3",
      "name": "python3"
    }
  },
  "cells": [
    {
      "cell_type": "markdown",
      "metadata": {
        "id": "29XYheDnBBy6"
      },
      "source": [
        "# ***Car Prediction Model using Mobilenet***\n",
        "This code aims to create and train model for car prediction. Here the transfer learning technique is used create the model. "
      ]
    },
    {
      "cell_type": "markdown",
      "metadata": {
        "id": "h85kVxTEB2RQ"
      },
      "source": [
        "**Libraries**"
      ]
    },
    {
      "cell_type": "code",
      "metadata": {
        "id": "1__vFar6BCbV"
      },
      "source": [
        "#Imporatant Libraries for working with arrays.\n",
        "import numpy as np\n",
        "\n",
        "#Imporatant Libraries for File handling.\n",
        "from glob import glob\n",
        "\n",
        "#Important Libraries for visulization of the results.\n",
        "import matplotlib.pyplot as plt\n",
        "\n",
        "#Important Libraries for training and testing of the model.\n",
        "import tensorflow as tf\n",
        "from tensorflow.keras import *\n",
        "from tensorflow.keras.layers import *\n",
        "from tensorflow.keras.models import Model\n",
        "from tensorflow.keras.models import Sequential\n",
        "from tensorflow.keras.models import load_model\n",
        "from tensorflow.keras.preprocessing import image\n",
        "from tensorflow.keras.applications.vgg16 import VGG16\n",
        "from tensorflow.keras.applications.vgg16 import preprocess_input\n",
        "from tensorflow.keras.preprocessing.image import ImageDataGenerator\n",
        "from keras.applications.mobilenet import MobileNet, preprocess_input\n"
      ],
      "execution_count": null,
      "outputs": []
    },
    {
      "cell_type": "markdown",
      "metadata": {
        "id": "4FxTVqR9DIC6"
      },
      "source": [
        "**Model Generator**"
      ]
    },
    {
      "cell_type": "code",
      "metadata": {
        "id": "TO6UR9kBDHtZ"
      },
      "source": [
        "def Model_Generator(IMAGE_SIZE):\n",
        "  #Mobilenet architecture.\n",
        "  model = MobileNet(input_shape= [IMAGE_SIZE[0], IMAGE_SIZE[1], 3], weights='imagenet', include_top=False)\n",
        "\n",
        "  #Setting layers non trainable \n",
        "  for layer in model.layers[:-23]:\n",
        "      layer.trainable = False\n",
        "  \n",
        "  #To get the information about all car classes.\n",
        "  folders = glob('/content/drive/MyDrive/Colab Notebooks/Project/Cars196/training/*')\n",
        "\n",
        "  x = Flatten()(model.layers[-6].output)\n",
        "  prediction = Dense(len(folders), activation='softmax')(x)\n",
        "\n",
        "  #Complete Model.\n",
        "  model = Model(inputs = model.input, outputs = prediction)\n",
        "  \n",
        "  #Printting Information about the model.\n",
        "  print(model.summary())\n",
        "  return model"
      ],
      "execution_count": null,
      "outputs": []
    },
    {
      "cell_type": "markdown",
      "metadata": {
        "id": "f-YijVJhEhln"
      },
      "source": [
        "**Optimizer generator**"
      ]
    },
    {
      "cell_type": "code",
      "metadata": {
        "id": "oRhZR1Z1Eg3N"
      },
      "source": [
        "def Optimizer_Generator():\n",
        "  # Set the parameters value for optimizer\n",
        "  adam=tf.keras.optimizers.Adam(\n",
        "          learning_rate=1e-5,\n",
        "          beta_1=0.9,\n",
        "          beta_2=0.999,\n",
        "          epsilon=1e-07,\n",
        "          decay = 0.0\n",
        "  )\n",
        "  return adam"
      ],
      "execution_count": null,
      "outputs": []
    },
    {
      "cell_type": "markdown",
      "metadata": {
        "id": "zOm-DdAZG5ua"
      },
      "source": [
        "**Model training**"
      ]
    },
    {
      "cell_type": "code",
      "metadata": {
        "id": "t3H3tkqtGk71"
      },
      "source": [
        "def Model_training(training_set, test_set, callback):\n",
        "  results = model.fit(\n",
        "                        training_set,\n",
        "                        validation_data=test_set,\n",
        "                        epochs=100,\n",
        "                        steps_per_epoch=len(training_set),\n",
        "                        validation_steps=len(test_set),\n",
        "                        callbacks = [callback]\n",
        "                      )\n",
        "  return results"
      ],
      "execution_count": null,
      "outputs": []
    },
    {
      "cell_type": "code",
      "metadata": {
        "colab": {
          "base_uri": "https://localhost:8080/",
          "height": 1000
        },
        "id": "zKOyxBygCP5o",
        "outputId": "cc83fdcd-85ef-478f-c2dc-1e4db22b2050"
      },
      "source": [
        "#Dimension of input image.  \n",
        "Image_Dimension = [227,227]\n",
        "\n",
        "#Generation of the model\n",
        "model = Model_Generator(Image_Dimension)\n",
        "\n",
        "#Generation of the optimizer\n",
        "adam = Optimizer_Generator()\n",
        "\n",
        "#Compile model.\n",
        "model.compile(\n",
        "  loss='categorical_crossentropy',\n",
        "  optimizer=\"adam\",\n",
        "  metrics=['accuracy']\n",
        ")\n",
        "\n",
        "#Generating flow from the directories for training and testing dataset.\n",
        "\n",
        "#Genrating flow of images from training dataset.\n",
        "train_datagen = ImageDataGenerator(preprocessing_function=preprocess_input,\n",
        "                                   rotation_range = 0,\n",
        "                                   zoom_range = 0.2,\n",
        "                                   horizontal_flip = True)\n",
        "\n",
        "training_set = train_datagen.flow_from_directory('/content/drive/MyDrive/Colab Notebooks/Project/Cars196/training',\n",
        "                                                 target_size = (227, 227),\n",
        "                                                 batch_size = 256,\n",
        "                                                 class_mode = 'categorical',\n",
        "                                                 shuffle=True)\n",
        "\n",
        "#Genrating flow of images from testing dataset.\n",
        "test_datagen = ImageDataGenerator(preprocessing_function=preprocess_input)\n",
        "\n",
        "test_set = test_datagen.flow_from_directory('/content/drive/MyDrive/Colab Notebooks/Project/Cars196/testing',\n",
        "                                            target_size = (227, 227),\n",
        "                                            batch_size = 256,\n",
        "                                            class_mode = 'categorical',\n",
        "                                            shuffle=True)\n",
        "\n",
        "#Set Callback options here.\n",
        "checkpoint_filepath = '/content/drive/MyDrive/Colab Notebooks/Project/sample/./weights.{epoch:02d}.hdf5'\n",
        "callback = [tf.keras.callbacks.EarlyStopping(monitor='loss', patience=4,mode = 'auto', restore_best_weights=False),\n",
        "            tf.keras.callbacks.CSVLogger('traininglog.csv', separator=\",\", append=False),\n",
        "            tf.keras.callbacks.ReduceLROnPlateau(monitor=\"val_loss\",factor=0.1, patience=2, mode=\"auto\",min_delta=0.0001,min_lr=0),\n",
        "            tf.keras.callbacks.ModelCheckpoint(filepath=checkpoint_filepath, save_weights_only=True,monitor='val_accuracy',mode='max',save_best_only=True),\n",
        "           ]\n",
        "\n",
        "\n",
        "results = Model_training(training_set, test_set, callback)\n",
        "\n",
        "#Visualizing the results.\n",
        "\n",
        "#Plot for epoch versus loss.\n",
        "plt.plot(results.history['loss'], label='train loss')\n",
        "plt.plot(results.history['val_loss'], label='val loss')\n",
        "plt.legend()\n",
        "plt.show()\n",
        "\n",
        "#Plot for epoch versus accuracy.\n",
        "plt.plot(results.history['accuracy'], label='train acc')\n",
        "plt.plot(results.history['val_accuracy'], label='val acc')\n",
        "plt.legend()\n",
        "plt.show()\n",
        " \n",
        "#Save model \n",
        "model.save('/content/drive/MyDrive/Colab Notebooks/Project/Cars100/New_model.h5')\n"
      ],
      "execution_count": null,
      "outputs": [
        {
          "output_type": "stream",
          "text": [
            "WARNING:tensorflow:`input_shape` is undefined or non-square, or `rows` is not in [128, 160, 192, 224]. Weights for input shape (224, 224) will be loaded as the default.\n",
            "Model: \"model_7\"\n",
            "_________________________________________________________________\n",
            "Layer (type)                 Output Shape              Param #   \n",
            "=================================================================\n",
            "input_8 (InputLayer)         [(None, 227, 227, 3)]     0         \n",
            "_________________________________________________________________\n",
            "conv1 (Conv2D)               (None, 114, 114, 32)      864       \n",
            "_________________________________________________________________\n",
            "conv1_bn (BatchNormalization (None, 114, 114, 32)      128       \n",
            "_________________________________________________________________\n",
            "conv1_relu (ReLU)            (None, 114, 114, 32)      0         \n",
            "_________________________________________________________________\n",
            "conv_dw_1 (DepthwiseConv2D)  (None, 114, 114, 32)      288       \n",
            "_________________________________________________________________\n",
            "conv_dw_1_bn (BatchNormaliza (None, 114, 114, 32)      128       \n",
            "_________________________________________________________________\n",
            "conv_dw_1_relu (ReLU)        (None, 114, 114, 32)      0         \n",
            "_________________________________________________________________\n",
            "conv_pw_1 (Conv2D)           (None, 114, 114, 64)      2048      \n",
            "_________________________________________________________________\n",
            "conv_pw_1_bn (BatchNormaliza (None, 114, 114, 64)      256       \n",
            "_________________________________________________________________\n",
            "conv_pw_1_relu (ReLU)        (None, 114, 114, 64)      0         \n",
            "_________________________________________________________________\n",
            "conv_pad_2 (ZeroPadding2D)   (None, 115, 115, 64)      0         \n",
            "_________________________________________________________________\n",
            "conv_dw_2 (DepthwiseConv2D)  (None, 57, 57, 64)        576       \n",
            "_________________________________________________________________\n",
            "conv_dw_2_bn (BatchNormaliza (None, 57, 57, 64)        256       \n",
            "_________________________________________________________________\n",
            "conv_dw_2_relu (ReLU)        (None, 57, 57, 64)        0         \n",
            "_________________________________________________________________\n",
            "conv_pw_2 (Conv2D)           (None, 57, 57, 128)       8192      \n",
            "_________________________________________________________________\n",
            "conv_pw_2_bn (BatchNormaliza (None, 57, 57, 128)       512       \n",
            "_________________________________________________________________\n",
            "conv_pw_2_relu (ReLU)        (None, 57, 57, 128)       0         \n",
            "_________________________________________________________________\n",
            "conv_dw_3 (DepthwiseConv2D)  (None, 57, 57, 128)       1152      \n",
            "_________________________________________________________________\n",
            "conv_dw_3_bn (BatchNormaliza (None, 57, 57, 128)       512       \n",
            "_________________________________________________________________\n",
            "conv_dw_3_relu (ReLU)        (None, 57, 57, 128)       0         \n",
            "_________________________________________________________________\n",
            "conv_pw_3 (Conv2D)           (None, 57, 57, 128)       16384     \n",
            "_________________________________________________________________\n",
            "conv_pw_3_bn (BatchNormaliza (None, 57, 57, 128)       512       \n",
            "_________________________________________________________________\n",
            "conv_pw_3_relu (ReLU)        (None, 57, 57, 128)       0         \n",
            "_________________________________________________________________\n",
            "conv_pad_4 (ZeroPadding2D)   (None, 58, 58, 128)       0         \n",
            "_________________________________________________________________\n",
            "conv_dw_4 (DepthwiseConv2D)  (None, 28, 28, 128)       1152      \n",
            "_________________________________________________________________\n",
            "conv_dw_4_bn (BatchNormaliza (None, 28, 28, 128)       512       \n",
            "_________________________________________________________________\n",
            "conv_dw_4_relu (ReLU)        (None, 28, 28, 128)       0         \n",
            "_________________________________________________________________\n",
            "conv_pw_4 (Conv2D)           (None, 28, 28, 256)       32768     \n",
            "_________________________________________________________________\n",
            "conv_pw_4_bn (BatchNormaliza (None, 28, 28, 256)       1024      \n",
            "_________________________________________________________________\n",
            "conv_pw_4_relu (ReLU)        (None, 28, 28, 256)       0         \n",
            "_________________________________________________________________\n",
            "conv_dw_5 (DepthwiseConv2D)  (None, 28, 28, 256)       2304      \n",
            "_________________________________________________________________\n",
            "conv_dw_5_bn (BatchNormaliza (None, 28, 28, 256)       1024      \n",
            "_________________________________________________________________\n",
            "conv_dw_5_relu (ReLU)        (None, 28, 28, 256)       0         \n",
            "_________________________________________________________________\n",
            "conv_pw_5 (Conv2D)           (None, 28, 28, 256)       65536     \n",
            "_________________________________________________________________\n",
            "conv_pw_5_bn (BatchNormaliza (None, 28, 28, 256)       1024      \n",
            "_________________________________________________________________\n",
            "conv_pw_5_relu (ReLU)        (None, 28, 28, 256)       0         \n",
            "_________________________________________________________________\n",
            "conv_pad_6 (ZeroPadding2D)   (None, 29, 29, 256)       0         \n",
            "_________________________________________________________________\n",
            "conv_dw_6 (DepthwiseConv2D)  (None, 14, 14, 256)       2304      \n",
            "_________________________________________________________________\n",
            "conv_dw_6_bn (BatchNormaliza (None, 14, 14, 256)       1024      \n",
            "_________________________________________________________________\n",
            "conv_dw_6_relu (ReLU)        (None, 14, 14, 256)       0         \n",
            "_________________________________________________________________\n",
            "conv_pw_6 (Conv2D)           (None, 14, 14, 512)       131072    \n",
            "_________________________________________________________________\n",
            "conv_pw_6_bn (BatchNormaliza (None, 14, 14, 512)       2048      \n",
            "_________________________________________________________________\n",
            "conv_pw_6_relu (ReLU)        (None, 14, 14, 512)       0         \n",
            "_________________________________________________________________\n",
            "conv_dw_7 (DepthwiseConv2D)  (None, 14, 14, 512)       4608      \n",
            "_________________________________________________________________\n",
            "conv_dw_7_bn (BatchNormaliza (None, 14, 14, 512)       2048      \n",
            "_________________________________________________________________\n",
            "conv_dw_7_relu (ReLU)        (None, 14, 14, 512)       0         \n",
            "_________________________________________________________________\n",
            "conv_pw_7 (Conv2D)           (None, 14, 14, 512)       262144    \n",
            "_________________________________________________________________\n",
            "conv_pw_7_bn (BatchNormaliza (None, 14, 14, 512)       2048      \n",
            "_________________________________________________________________\n",
            "conv_pw_7_relu (ReLU)        (None, 14, 14, 512)       0         \n",
            "_________________________________________________________________\n",
            "conv_dw_8 (DepthwiseConv2D)  (None, 14, 14, 512)       4608      \n",
            "_________________________________________________________________\n",
            "conv_dw_8_bn (BatchNormaliza (None, 14, 14, 512)       2048      \n",
            "_________________________________________________________________\n",
            "conv_dw_8_relu (ReLU)        (None, 14, 14, 512)       0         \n",
            "_________________________________________________________________\n",
            "conv_pw_8 (Conv2D)           (None, 14, 14, 512)       262144    \n",
            "_________________________________________________________________\n",
            "conv_pw_8_bn (BatchNormaliza (None, 14, 14, 512)       2048      \n",
            "_________________________________________________________________\n",
            "conv_pw_8_relu (ReLU)        (None, 14, 14, 512)       0         \n",
            "_________________________________________________________________\n",
            "conv_dw_9 (DepthwiseConv2D)  (None, 14, 14, 512)       4608      \n",
            "_________________________________________________________________\n",
            "conv_dw_9_bn (BatchNormaliza (None, 14, 14, 512)       2048      \n",
            "_________________________________________________________________\n",
            "conv_dw_9_relu (ReLU)        (None, 14, 14, 512)       0         \n",
            "_________________________________________________________________\n",
            "conv_pw_9 (Conv2D)           (None, 14, 14, 512)       262144    \n",
            "_________________________________________________________________\n",
            "conv_pw_9_bn (BatchNormaliza (None, 14, 14, 512)       2048      \n",
            "_________________________________________________________________\n",
            "conv_pw_9_relu (ReLU)        (None, 14, 14, 512)       0         \n",
            "_________________________________________________________________\n",
            "conv_dw_10 (DepthwiseConv2D) (None, 14, 14, 512)       4608      \n",
            "_________________________________________________________________\n",
            "conv_dw_10_bn (BatchNormaliz (None, 14, 14, 512)       2048      \n",
            "_________________________________________________________________\n",
            "conv_dw_10_relu (ReLU)       (None, 14, 14, 512)       0         \n",
            "_________________________________________________________________\n",
            "conv_pw_10 (Conv2D)          (None, 14, 14, 512)       262144    \n",
            "_________________________________________________________________\n",
            "conv_pw_10_bn (BatchNormaliz (None, 14, 14, 512)       2048      \n",
            "_________________________________________________________________\n",
            "conv_pw_10_relu (ReLU)       (None, 14, 14, 512)       0         \n",
            "_________________________________________________________________\n",
            "conv_dw_11 (DepthwiseConv2D) (None, 14, 14, 512)       4608      \n",
            "_________________________________________________________________\n",
            "conv_dw_11_bn (BatchNormaliz (None, 14, 14, 512)       2048      \n",
            "_________________________________________________________________\n",
            "conv_dw_11_relu (ReLU)       (None, 14, 14, 512)       0         \n",
            "_________________________________________________________________\n",
            "conv_pw_11 (Conv2D)          (None, 14, 14, 512)       262144    \n",
            "_________________________________________________________________\n",
            "conv_pw_11_bn (BatchNormaliz (None, 14, 14, 512)       2048      \n",
            "_________________________________________________________________\n",
            "conv_pw_11_relu (ReLU)       (None, 14, 14, 512)       0         \n",
            "_________________________________________________________________\n",
            "conv_pad_12 (ZeroPadding2D)  (None, 15, 15, 512)       0         \n",
            "_________________________________________________________________\n",
            "conv_dw_12 (DepthwiseConv2D) (None, 7, 7, 512)         4608      \n",
            "_________________________________________________________________\n",
            "conv_dw_12_bn (BatchNormaliz (None, 7, 7, 512)         2048      \n",
            "_________________________________________________________________\n",
            "conv_dw_12_relu (ReLU)       (None, 7, 7, 512)         0         \n",
            "_________________________________________________________________\n",
            "conv_pw_12 (Conv2D)          (None, 7, 7, 1024)        524288    \n",
            "_________________________________________________________________\n",
            "conv_pw_12_bn (BatchNormaliz (None, 7, 7, 1024)        4096      \n",
            "_________________________________________________________________\n",
            "conv_pw_12_relu (ReLU)       (None, 7, 7, 1024)        0         \n",
            "_________________________________________________________________\n",
            "conv_dw_13 (DepthwiseConv2D) (None, 7, 7, 1024)        9216      \n",
            "_________________________________________________________________\n",
            "flatten_7 (Flatten)          (None, 50176)             0         \n",
            "_________________________________________________________________\n",
            "dense_7 (Dense)              (None, 195)               9784515   \n",
            "=================================================================\n",
            "Total params: 11,956,611\n",
            "Trainable params: 10,857,667\n",
            "Non-trainable params: 1,098,944\n",
            "_________________________________________________________________\n",
            "Found 36557 images belonging to 195 classes.\n",
            "Found 3900 images belonging to 195 classes.\n",
            "Epoch 1/100\n",
            "143/143 [==============================] - 15750s 110s/step - loss: 58.4098 - accuracy: 0.0322 - val_loss: 15.4796 - val_accuracy: 0.0385\n",
            "Epoch 2/100\n",
            "143/143 [==============================] - 437s 3s/step - loss: 1.8938 - accuracy: 0.5759 - val_loss: 2.8087 - val_accuracy: 0.4554\n",
            "Epoch 3/100\n",
            "143/143 [==============================] - 424s 3s/step - loss: 0.7783 - accuracy: 0.8089 - val_loss: 2.6297 - val_accuracy: 0.5823\n",
            "Epoch 4/100\n",
            "143/143 [==============================] - 424s 3s/step - loss: 0.4914 - accuracy: 0.8803 - val_loss: 3.7169 - val_accuracy: 0.5779\n",
            "Epoch 5/100\n",
            "143/143 [==============================] - 422s 3s/step - loss: 0.4349 - accuracy: 0.9053 - val_loss: 4.0924 - val_accuracy: 0.5697\n",
            "Epoch 6/100\n",
            "143/143 [==============================] - 422s 3s/step - loss: 0.2045 - accuracy: 0.9530 - val_loss: 1.5428 - val_accuracy: 0.7810\n",
            "Epoch 7/100\n",
            "143/143 [==============================] - 423s 3s/step - loss: 0.0706 - accuracy: 0.9799 - val_loss: 1.4300 - val_accuracy: 0.7818\n",
            "Epoch 8/100\n",
            "143/143 [==============================] - 423s 3s/step - loss: 0.0530 - accuracy: 0.9848 - val_loss: 1.4447 - val_accuracy: 0.7885\n",
            "Epoch 9/100\n",
            "143/143 [==============================] - 422s 3s/step - loss: 0.0433 - accuracy: 0.9878 - val_loss: 1.4225 - val_accuracy: 0.7869\n",
            "Epoch 10/100\n",
            "143/143 [==============================] - 426s 3s/step - loss: 0.0396 - accuracy: 0.9897 - val_loss: 1.4372 - val_accuracy: 0.7923\n",
            "Epoch 11/100\n",
            "143/143 [==============================] - 425s 3s/step - loss: 0.0308 - accuracy: 0.9911 - val_loss: 1.4052 - val_accuracy: 0.7956\n",
            "Epoch 12/100\n",
            "143/143 [==============================] - 422s 3s/step - loss: 0.0234 - accuracy: 0.9931 - val_loss: 1.4204 - val_accuracy: 0.7982\n",
            "Epoch 13/100\n",
            "143/143 [==============================] - 423s 3s/step - loss: 0.0263 - accuracy: 0.9928 - val_loss: 1.4016 - val_accuracy: 0.7974\n",
            "Epoch 14/100\n",
            "143/143 [==============================] - 424s 3s/step - loss: 0.0257 - accuracy: 0.9938 - val_loss: 1.3973 - val_accuracy: 0.7982\n",
            "Epoch 15/100\n",
            "143/143 [==============================] - 423s 3s/step - loss: 0.0196 - accuracy: 0.9945 - val_loss: 1.4193 - val_accuracy: 0.7974\n",
            "Epoch 16/100\n",
            "143/143 [==============================] - 423s 3s/step - loss: 0.0209 - accuracy: 0.9939 - val_loss: 1.4017 - val_accuracy: 0.8026\n",
            "Epoch 17/100\n",
            "143/143 [==============================] - 422s 3s/step - loss: 0.0164 - accuracy: 0.9949 - val_loss: 1.3931 - val_accuracy: 0.8046\n",
            "Epoch 18/100\n",
            "143/143 [==============================] - 423s 3s/step - loss: 0.0174 - accuracy: 0.9948 - val_loss: 1.3917 - val_accuracy: 0.8046\n",
            "Epoch 19/100\n",
            "143/143 [==============================] - 423s 3s/step - loss: 0.0143 - accuracy: 0.9959 - val_loss: 1.3880 - val_accuracy: 0.8062\n",
            "Epoch 20/100\n",
            "143/143 [==============================] - 423s 3s/step - loss: 0.0116 - accuracy: 0.9965 - val_loss: 1.3852 - val_accuracy: 0.8059\n",
            "Epoch 21/100\n",
            "143/143 [==============================] - 422s 3s/step - loss: 0.0135 - accuracy: 0.9962 - val_loss: 1.3889 - val_accuracy: 0.8074\n",
            "Epoch 22/100\n",
            "143/143 [==============================] - 423s 3s/step - loss: 0.0128 - accuracy: 0.9966 - val_loss: 1.3803 - val_accuracy: 0.8082\n",
            "Epoch 23/100\n",
            "143/143 [==============================] - 422s 3s/step - loss: 0.0111 - accuracy: 0.9961 - val_loss: 1.3777 - val_accuracy: 0.8082\n",
            "Epoch 24/100\n",
            "143/143 [==============================] - 423s 3s/step - loss: 0.0126 - accuracy: 0.9963 - val_loss: 1.3752 - val_accuracy: 0.8105\n",
            "Epoch 25/100\n",
            "143/143 [==============================] - 422s 3s/step - loss: 0.0110 - accuracy: 0.9964 - val_loss: 1.3764 - val_accuracy: 0.8082\n",
            "Epoch 26/100\n",
            "143/143 [==============================] - 422s 3s/step - loss: 0.0118 - accuracy: 0.9963 - val_loss: 1.3758 - val_accuracy: 0.8097\n",
            "Epoch 27/100\n",
            "143/143 [==============================] - 422s 3s/step - loss: 0.0111 - accuracy: 0.9970 - val_loss: 1.3738 - val_accuracy: 0.8100\n"
          ],
          "name": "stdout"
        },
        {
          "output_type": "display_data",
          "data": {
            "image/png": "[encoded data removed]",
            "text/plain": [
              "<Figure size 432x288 with 1 Axes>"
            ]
          },
          "metadata": {
            "tags": []
          }
        },
        {
          "output_type": "display_data",
          "data": {
            "image/png": "[encoded data removed]",
            "text/plain": [
              "<Figure size 432x288 with 1 Axes>"
            ]
          },
          "metadata": {
            "tags": []
          }
        },
        {
          "output_type": "stream",
          "text": [
            "16/16 [==============================] - 11s 681ms/step - loss: 1.3738 - accuracy: 0.8100\n"
          ],
          "name": "stdout"
        },
        {
          "output_type": "execute_result",
          "data": {
            "text/plain": [
              "[1.373832106590271, 0.8100000023841858]"
            ]
          },
          "metadata": {
            "tags": []
          },
          "execution_count": 8
        }
      ]
    },
    {
      "cell_type": "code",
      "metadata": {
        "id": "-u3KPBR0sHFz"
      },
      "source": [
        ""
      ],
      "execution_count": null,
      "outputs": []
    }
  ]
}
