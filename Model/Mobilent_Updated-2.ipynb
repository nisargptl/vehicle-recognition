{
 "cells": [
  {
   "cell_type": "markdown",
   "metadata": {
    "id": "29XYheDnBBy6"
   },
   "source": [
    "# ***Car Prediction Model using Mobilenet***\n",
    "This code aims to create and train model for car prediction. Here the transfer learning technique is used create the model.\n",
    "\n",
    "In this new update we have increased the augmentation and unfrozed more layers. while implementing the same model with a bit high learning rate."
   ]
  },
  {
   "cell_type": "markdown",
   "metadata": {
    "id": "h85kVxTEB2RQ"
   },
   "source": [
    "**Libraries**"
   ]
  },
  {
   "cell_type": "code",
   "execution_count": null,
   "metadata": {
    "id": "1__vFar6BCbV"
   },
   "outputs": [],
   "source": [
    "#Imporatant Libraries for working with arrays.\n",
    "import numpy as np\n",
    "\n",
    "#Important Libraries for visulization of the results.\n",
    "import matplotlib.pyplot as plt\n",
    "\n",
    "#Important Libraries for training and testing of the model.\n",
    "import tensorflow as tf\n",
    "from tensorflow.keras import *\n",
    "from tensorflow.keras.layers import *\n",
    "from tensorflow.keras.models import Model\n",
    "from tensorflow.keras.models import Sequential\n",
    "from tensorflow.keras.models import load_model\n",
    "from tensorflow.keras.preprocessing import image\n",
    "from tensorflow.keras.preprocessing.image import ImageDataGenerator\n",
    "from keras.applications.mobilenet import MobileNet, preprocess_input\n",
    "\n",
    "#configuring the gpu \n",
    "os.environ['TF_XLA_FLAGS'] = '--tf_xla_enable_xla_devices'\n",
    "tf.version\n",
    "assert tf.test.is_built_with_cuda()\n",
    "gpus = tf.config.list_physical_devices('GPU')\n",
    "if gpus:\n",
    "    try:\n",
    "        tf.config.experimental.set_visible_devices(gpus[0], 'GPU')\n",
    "        logical_gpus = tf.config.experimental.list_logical_devices('GPU')\n",
    "        print(len(gpus), \"Physical GPUs,\", len(logical_gpus), \"Logical GPU\")\n",
    "    except RuntimeError as e:\n",
    "        print(e)\n"
   ]
  },
  {
   "cell_type": "markdown",
   "metadata": {
    "id": "4FxTVqR9DIC6"
   },
   "source": [
    "**Model Generator**"
   ]
  },
  {
   "cell_type": "code",
   "execution_count": null,
   "metadata": {
    "id": "TO6UR9kBDHtZ"
   },
   "outputs": [],
   "source": [
    "def Model_Generator(IMAGE_SIZE):\n",
    "\n",
    "  #Loading the model\n",
    "  model=tf.keras.models.load_model('D:/car196/car100/New_model_100_classes_V2.h5')\n",
    "  #freezing all layers\n",
    "  for layer in model.layers:\n",
    "    layer.trainable = False\n",
    "\n",
    "  #Unfreezing last 30 layer\n",
    "\n",
    "  for layer in model.layers[-50:]:\n",
    "    layer.trainable = True\n",
    "\n",
    "  #Printting Information about the model.\n",
    "  print(model.summary())\n",
    "  return model"
   ]
  },
  {
   "cell_type": "markdown",
   "metadata": {
    "id": "f-YijVJhEhln"
   },
   "source": [
    "**Optimizer generator**"
   ]
  },
  {
   "cell_type": "code",
   "execution_count": null,
   "metadata": {
    "id": "oRhZR1Z1Eg3N"
   },
   "outputs": [],
   "source": [
    "def Optimizer_Generator():\n",
    "  # Set the parameters value for optimizer\n",
    "  adam=tf.keras.optimizers.Adam(\n",
    "          learning_rate=1e-4,\n",
    "          beta_1=0.9,\n",
    "          beta_2=0.999,\n",
    "          epsilon=1e-07,\n",
    "          decay = 0.0\n",
    "  )\n",
    "  return adam"
   ]
  },
  {
   "cell_type": "markdown",
   "metadata": {
    "id": "zOm-DdAZG5ua"
   },
   "source": [
    "**Model training**"
   ]
  },
  {
   "cell_type": "code",
   "execution_count": null,
   "metadata": {
    "id": "t3H3tkqtGk71"
   },
   "outputs": [],
   "source": [
    "def Model_training(training_set, test_set, callback):\n",
    "  results = model.fit(\n",
    "                        training_set,\n",
    "                        validation_data=test_set,\n",
    "                        epochs=15,\n",
    "                        steps_per_epoch=len(training_set),\n",
    "                        validation_steps=len(test_set),\n",
    "                        callbacks = [callback]\n",
    "                      )\n",
    "  return results"
   ]
  },
  {
   "cell_type": "code",
   "execution_count": null,
   "metadata": {
    "colab": {
     "base_uri": "https://localhost:8080/",
     "height": 1000
    },
    "id": "zKOyxBygCP5o",
    "outputId": "cc83fdcd-85ef-478f-c2dc-1e4db22b2050",
    "scrolled": false
   },
   "outputs": [],
   "source": [
    "#Dimension of input image.  \n",
    "Image_Dimension = [227,227]\n",
    "\n",
    "#Generation of the model\n",
    "model = Model_Generator(Image_Dimension)\n",
    "\n",
    "#Generation of the optimizer\n",
    "adam = Optimizer_Generator()\n",
    "\n",
    "#Compile model.\n",
    "model.compile(\n",
    "  loss='categorical_crossentropy',\n",
    "  optimizer=adam,\n",
    "  metrics=['accuracy']\n",
    ")\n",
    "\n",
    "#Generating flow from the directories for training and testing dataset.\n",
    "\n",
    "#Genrating flow of images from training dataset.\n",
    "train_datagen = ImageDataGenerator(preprocessing_function=preprocess_input,\n",
    "                                   rotation_range = 30,\n",
    "                                   horizontal_flip = True)\n",
    "\n",
    "training_set = train_datagen.flow_from_directory('D:/car196/car100/training',\n",
    "                                                 target_size = (227, 227),\n",
    "                                                 batch_size = 256,\n",
    "                                                 class_mode = 'categorical',\n",
    "                                                 shuffle=True)\n",
    "\n",
    "#Genrating flow of images from testing dataset.\n",
    "test_datagen = ImageDataGenerator(preprocessing_function=preprocess_input)\n",
    "\n",
    "test_set = test_datagen.flow_from_directory('D:/car196/car100/testing',\n",
    "                                            target_size = (227, 227),\n",
    "                                            batch_size = 256,\n",
    "                                            class_mode = 'categorical',\n",
    "                                            shuffle=True)\n",
    "\n",
    "#Set Callback options here.\n",
    "checkpoint_filepath = 'D:/car196/car100/weights.{epoch:02d}val_acc{val_accuracy:3f}.hdf5'\n",
    "callback = [tf.keras.callbacks.EarlyStopping(monitor='loss', patience=4,mode = 'auto', restore_best_weights=False),\n",
    "            tf.keras.callbacks.ReduceLROnPlateau(monitor=\"val_loss\",factor=0.1, patience=2, mode=\"auto\",min_delta=0.0001,min_lr=0),\n",
    "            tf.keras.callbacks.ModelCheckpoint(filepath=checkpoint_filepath, save_weights_only=True,monitor='val_accuracy',mode='max',save_best_only=True),\n",
    "           ]\n",
    "\n",
    "\n",
    "results = Model_training(training_set, test_set, callback)\n",
    "\n",
    "#Visualizing the results.\n",
    "\n",
    "#Plot for epoch versus loss.\n",
    "plt.plot(results.history['loss'], label='train loss')\n",
    "plt.plot(results.history['val_loss'], label='val loss')\n",
    "plt.legend()\n",
    "plt.show()\n",
    "\n",
    "#Plot for epoch versus accuracy.\n",
    "plt.plot(results.history['accuracy'], label='train acc')\n",
    "plt.plot(results.history['val_accuracy'], label='val acc')\n",
    "plt.legend()\n",
    "plt.show()\n",
    " \n",
    "#Save model \n",
    "model.save('D:/car196/car100/New_model_100_classes_V3.h5')"
   ]
  },
  {
   "cell_type": "code",
   "execution_count": null,
   "metadata": {
    "id": "-u3KPBR0sHFz"
   },
   "outputs": [],
   "source": []
  }
 ],
 "metadata": {
  "accelerator": "GPU",
  "colab": {
   "name": "Mobilenet.ipynb",
   "provenance": []
  },
  "kernelspec": {
   "display_name": "Python 3",
   "language": "python",
   "name": "python3"
  },
  "language_info": {
   "codemirror_mode": {
    "name": "ipython",
    "version": 3
   },
   "file_extension": ".py",
   "mimetype": "text/x-python",
   "name": "python",
   "nbconvert_exporter": "python",
   "pygments_lexer": "ipython3",
   "version": "3.8.8"
  }
 },
 "nbformat": 4,
 "nbformat_minor": 1
}
