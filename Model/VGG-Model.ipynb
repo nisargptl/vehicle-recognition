{
 "cells": [
  {
   "cell_type": "markdown",
   "metadata": {
    "id": "29XYheDnBBy6"
   },
   "source": [
    "# ***Car Prediction Model using VGG***\n",
    "This code aims to create and train model for car prediction. Here the transfer learning technique is used create the model.\n"
   ]
  },
  {
   "cell_type": "markdown",
   "metadata": {
    "id": "h85kVxTEB2RQ"
   },
   "source": [
    "**Libraries**"
   ]
  },
  {
   "cell_type": "code",
   "execution_count": null,
   "metadata": {
    "id": "1__vFar6BCbV"
   },
   "outputs": [],
   "source": [
    "#Imporatant Libraries for working with arrays.\n",
    "import numpy as np\n",
    "\n",
    "#Important Libraries for visulization of the results.\n",
    "import matplotlib.pyplot as plt\n",
    "\n",
    "#Important Libraries for training and testing of the model.\n",
    "import tensorflow as tf\n",
    "from tensorflow.keras import *\n",
    "from tensorflow.keras.layers import *\n",
    "from tensorflow.keras.models import Model\n",
    "from tensorflow.keras.models import Sequential\n",
    "from tensorflow.keras.models import load_model\n",
    "from tensorflow.keras.preprocessing import image\n",
    "from tensorflow.keras.preprocessing.image import ImageDataGenerator\n",
    "from tensorflow.keras.applications.vgg16 import VGG16\n",
    "from tensorflow.keras.applications.vgg16 import preprocess_input\n",
    "#configuring the gpu \n",
    "os.environ['TF_XLA_FLAGS'] = '--tf_xla_enable_xla_devices'\n",
    "tf.version\n",
    "assert tf.test.is_built_with_cuda()\n",
    "gpus = tf.config.list_physical_devices('GPU')\n",
    "if gpus:\n",
    "    try:\n",
    "        tf.config.experimental.set_visible_devices(gpus[0], 'GPU')\n",
    "        logical_gpus = tf.config.experimental.list_logical_devices('GPU')\n",
    "        print(len(gpus), \"Physical GPUs,\", len(logical_gpus), \"Logical GPU\")\n",
    "    except RuntimeError as e:\n",
    "        print(e)\n"
   ]
  },
  {
   "cell_type": "markdown",
   "metadata": {
    "id": "4FxTVqR9DIC6"
   },
   "source": [
    "**Model Generator**"
   ]
  },
  {
   "cell_type": "code",
   "execution_count": null,
   "metadata": {
    "id": "TO6UR9kBDHtZ"
   },
   "outputs": [],
   "source": [
    "def Model_Generator(IMAGE_SIZE):\n",
    "\n",
    "    vgg =VGG16(input_shape= [227,227, 3], weights='imagenet', include_top=False)\n",
    "\n",
    "    for layer in vgg.layers[:17]:\n",
    "        layer.trainable = False\n",
    "\n",
    "    folders = glob(r'D:\\car196\\newtrain1\\*')\n",
    "\n",
    "    conv_output = vgg.get_layer(\"input_1\").output  \n",
    "    x = layers.Conv2D(64, (3, 3),\n",
    "                      activation='selu',\n",
    "                      padding='same',\n",
    "                      name='block1_conv1')(conv_output)\n",
    "    x = layers.Conv2D(64, (3, 3),\n",
    "                      activation='selu',\n",
    "                      padding='same',\n",
    "                      name='block1_conv2')(x)\n",
    "    x = layers.MaxPooling2D((2, 2), strides=(2, 2), name='block1_pool')(x)\n",
    "\n",
    "    x = layers.Conv2D(128, (3, 3),\n",
    "                      activation='selu',\n",
    "                      padding='same',\n",
    "                      name='block2_conv1')(x)\n",
    "    x = layers.Conv2D(128, (3, 3),\n",
    "                      activation='selu',\n",
    "                      padding='same',\n",
    "                      kernel_regularizer =tf.keras.regularizers.l2(0.01),\n",
    "                      name='block2_conv2')(x)\n",
    "    x = layers.MaxPooling2D((2, 2), strides=(2, 2), name='block2_pool')(x)\n",
    "\n",
    "\n",
    "    x = layers.Conv2D(256, (3, 3),\n",
    "                      activation='selu',\n",
    "                      padding='same',\n",
    "                      kernel_regularizer =tf.keras.regularizers.l2(0.01),\n",
    "                      name='block3_conv1')(x)\n",
    "    x = layers.Conv2D(256, (3, 3),\n",
    "                      activation='selu',\n",
    "                      padding='same',\n",
    "                      kernel_regularizer =tf.keras.regularizers.l2(0.01),\n",
    "                      name='block3_conv2')(x)\n",
    "    x = layers.Conv2D(256, (3, 3),\n",
    "                      activation='selu',\n",
    "                      padding='same',\n",
    "                      kernel_regularizer =tf.keras.regularizers.l2(0.01),\n",
    "                      name='block3_conv3')(x)\n",
    "    x = layers.MaxPooling2D((2, 2), strides=(2, 2), name='block3_pool')(x)\n",
    "\n",
    "\n",
    "    x = layers.Conv2D(512, (3, 3),\n",
    "                      activation='selu',\n",
    "                      padding='same',\n",
    "                      kernel_regularizer =tf.keras.regularizers.l2(0.01),\n",
    "                      name='block4_conv1')(x)\n",
    "    x = layers.Conv2D(512, (3, 3),\n",
    "                      activation='selu',\n",
    "                      padding='same',\n",
    "                      kernel_regularizer =tf.keras.regularizers.l2(0.01),\n",
    "                      name='block4_conv2')(x)\n",
    "    x = layers.Conv2D(512, (3, 3),\n",
    "                      activation='selu',\n",
    "                      padding='same',\n",
    "                      kernel_regularizer =tf.keras.regularizers.l2(0.01),\n",
    "                      name='block4_conv3')(x)\n",
    "    x = layers.MaxPooling2D((2, 2), strides=(2, 2), name='block4_pool')(x)\n",
    "    x = layers.Conv2D(512, (3, 3),\n",
    "                      activation='selu',\n",
    "                      padding='same',\n",
    "                      kernel_regularizer =tf.keras.regularizers.l2(0.01),\n",
    "                      name='block5_conv1')(x)\n",
    "    x = layers.Conv2D(512, (3, 3),\n",
    "                      activation='selu',\n",
    "                      padding='same',\n",
    "                      kernel_regularizer =tf.keras.regularizers.l2(0.01),\n",
    "                      name='block5_conv2')(x)\n",
    "    x = layers.Conv2D(512, (3, 3),\n",
    "                      activation='selu',\n",
    "                      padding='same',  \n",
    "                      kernel_regularizer =tf.keras.regularizers.l2(0.01),\n",
    "                      name='block5_conv3')(x)\n",
    "    x = layers.MaxPooling2D((2, 2), strides=(2, 2), name='block5_pool')(x)\n",
    "    model = Model(inputs=vgg.input, outputs=x)\n",
    "    model.load_weights(vgg)\n",
    "    x = Flatten()(model.output)\n",
    "    prediction = Dense(len(folders), activation='softmax')(x)\n",
    "    model = Model(inputs=vgg.input, outputs=prediction)\n",
    "\n",
    "  #Printting Information about the model.\n",
    "    print(model.summary())\n",
    "    return model"
   ]
  },
  {
   "cell_type": "markdown",
   "metadata": {
    "id": "f-YijVJhEhln"
   },
   "source": [
    "**Optimizer generator**"
   ]
  },
  {
   "cell_type": "code",
   "execution_count": null,
   "metadata": {
    "id": "oRhZR1Z1Eg3N"
   },
   "outputs": [],
   "source": [
    "def Optimizer_Generator():\n",
    "  # Set the parameters value for optimizer\n",
    "  adam=tf.keras.optimizers.Adam(\n",
    "          learning_rate=1e-3,\n",
    "          beta_1=0.9,\n",
    "          beta_2=0.999,\n",
    "          epsilon=1e-07,\n",
    "          decay = 0.0\n",
    "  )\n",
    "  return adam"
   ]
  },
  {
   "cell_type": "markdown",
   "metadata": {
    "id": "zOm-DdAZG5ua"
   },
   "source": [
    "**Model training**"
   ]
  },
  {
   "cell_type": "code",
   "execution_count": null,
   "metadata": {
    "id": "t3H3tkqtGk71"
   },
   "outputs": [],
   "source": [
    "def Model_training(training_set, test_set, callback):\n",
    "  results = model.fit(\n",
    "                        training_set,\n",
    "                        validation_data=test_set,\n",
    "                        epochs=20,\n",
    "                        steps_per_epoch=len(training_set),\n",
    "                        validation_steps=len(test_set),\n",
    "                        callbacks = [callback]\n",
    "                      )\n",
    "  return results"
   ]
  },
  {
   "cell_type": "code",
   "execution_count": null,
   "metadata": {
    "colab": {
     "base_uri": "https://localhost:8080/",
     "height": 1000
    },
    "id": "zKOyxBygCP5o",
    "outputId": "cc83fdcd-85ef-478f-c2dc-1e4db22b2050",
    "scrolled": false
   },
   "outputs": [],
   "source": [
    "#Dimension of input image.  \n",
    "Image_Dimension = [227,227]\n",
    "\n",
    "#Generation of the model\n",
    "model = Model_Generator(Image_Dimension)\n",
    "\n",
    "#Generation of the optimizer\n",
    "adam = Optimizer_Generator()\n",
    "\n",
    "#Compile model.\n",
    "model.compile(\n",
    "  loss='categorical_crossentropy',\n",
    "  optimizer=adam,\n",
    "  metrics=['accuracy']\n",
    ")\n",
    "\n",
    "#Generating flow from the directories for training and testing dataset.\n",
    "\n",
    "#Genrating flow of images from training dataset.\n",
    "train_datagen = ImageDataGenerator(preprocessing_function=preprocess_input,\n",
    "                                   rotation_range = 30,\n",
    "                                   horizontal_flip = True)\n",
    "\n",
    "training_set = train_datagen.flow_from_directory('D:/car196/car100/training',\n",
    "                                                 target_size = (227, 227),\n",
    "                                                 batch_size = 256,\n",
    "                                                 class_mode = 'categorical',\n",
    "                                                 shuffle=True)\n",
    "\n",
    "#Genrating flow of images from testing dataset.\n",
    "test_datagen = ImageDataGenerator(preprocessing_function=preprocess_input)\n",
    "\n",
    "test_set = test_datagen.flow_from_directory('D:/car196/car100/testing',\n",
    "                                            target_size = (227, 227),\n",
    "                                            batch_size = 256,\n",
    "                                            class_mode = 'categorical',\n",
    "                                            shuffle=True)\n",
    "\n",
    "#Set Callback options here.\n",
    "checkpoint_filepath = 'D:/car196/car100/weights.{epoch:02d}val_acc{val_accuracy:3f}.hdf5'\n",
    "callback = [tf.keras.callbacks.EarlyStopping(monitor='loss', patience=4,mode = 'auto', restore_best_weights=False),\n",
    "            tf.keras.callbacks.ReduceLROnPlateau(monitor=\"val_loss\",factor=0.1, patience=2, mode=\"auto\",min_delta=0.0001,min_lr=0),\n",
    "            tf.keras.callbacks.ModelCheckpoint(filepath=checkpoint_filepath, save_weights_only=True,monitor='val_accuracy',mode='max',save_best_only=True),\n",
    "           ]\n",
    "\n",
    "\n",
    "results = Model_training(training_set, test_set, callback)\n",
    "\n",
    "#Visualizing the results.\n",
    "\n",
    "#Plot for epoch versus loss.\n",
    "plt.plot(results.history['loss'], label='train loss')\n",
    "plt.plot(results.history['val_loss'], label='val loss')\n",
    "plt.legend()\n",
    "plt.show()\n",
    "\n",
    "#Plot for epoch versus accuracy.\n",
    "plt.plot(results.history['accuracy'], label='train acc')\n",
    "plt.plot(results.history['val_accuracy'], label='val acc')\n",
    "plt.legend()\n",
    "plt.show()\n",
    " \n",
    "#Save model \n",
    "model.save('D:/car196/car100/New_model_100_classes_VGG.h5')"
   ]
  },
  {
   "cell_type": "code",
   "execution_count": null,
   "metadata": {
    "id": "-u3KPBR0sHFz"
   },
   "outputs": [],
   "source": []
  }
 ],
 "metadata": {
  "accelerator": "GPU",
  "colab": {
   "name": "Mobilenet.ipynb",
   "provenance": []
  },
  "kernelspec": {
   "display_name": "Python 3",
   "language": "python",
   "name": "python3"
  },
  "language_info": {
   "codemirror_mode": {
    "name": "ipython",
    "version": 3
   },
   "file_extension": ".py",
   "mimetype": "text/x-python",
   "name": "python",
   "nbconvert_exporter": "python",
   "pygments_lexer": "ipython3",
   "version": "3.8.8"
  }
 },
 "nbformat": 4,
 "nbformat_minor": 1
}
